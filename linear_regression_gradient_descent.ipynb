{
  "nbformat": 4,
  "nbformat_minor": 0,
  "metadata": {
    "colab": {
      "name": "linear_regression_gradient_descent.ipynb",
      "provenance": [],
      "collapsed_sections": []
    },
    "kernelspec": {
      "name": "python3",
      "display_name": "Python 3"
    },
    "language_info": {
      "name": "python"
    }
  },
  "cells": [
    {
      "cell_type": "code",
      "metadata": {
        "colab": {
          "base_uri": "https://localhost:8080/"
        },
        "id": "dhtNpilfZtz8",
        "outputId": "ee2c44aa-007e-4fdf-8109-dc267be6b78b"
      },
      "source": [
        "%matplotlib inline\n",
        "import pandas as pd\n",
        "import numpy as np\n",
        "import matplotlib.pyplot as plt\n",
        "import statsmodels.api as sm"
      ],
      "execution_count": null,
      "outputs": [
        {
          "output_type": "stream",
          "text": [
            "/usr/local/lib/python3.7/dist-packages/statsmodels/tools/_testing.py:19: FutureWarning: pandas.util.testing is deprecated. Use the functions in the public API at pandas.testing instead.\n",
            "  import pandas.util.testing as tm\n"
          ],
          "name": "stderr"
        }
      ]
    },
    {
      "cell_type": "code",
      "metadata": {
        "colab": {
          "base_uri": "https://localhost:8080/"
        },
        "id": "AywpxZtEawQZ",
        "outputId": "ae38796b-9b79-4870-b548-65454d77eba9"
      },
      "source": [
        "from google.colab import drive\n",
        "drive.mount('/content/drive/')"
      ],
      "execution_count": null,
      "outputs": [
        {
          "output_type": "stream",
          "text": [
            "Mounted at /content/drive/\n"
          ],
          "name": "stdout"
        }
      ]
    },
    {
      "cell_type": "code",
      "metadata": {
        "colab": {
          "base_uri": "https://localhost:8080/"
        },
        "id": "cJHJhdKDbPwt",
        "outputId": "def47e82-1fc3-4cfa-a0ac-7da17c8e1bde"
      },
      "source": [
        "data = pd.read_csv('/content/drive/MyDrive/Colab Notebooks/data.csv')\n",
        "print(data.head(2))\n",
        "print(data.tail(3))"
      ],
      "execution_count": null,
      "outputs": [
        {
          "output_type": "stream",
          "text": [
            "   y  x1  x2\n",
            "0  2   4  -1\n",
            "1  3   5  -2\n",
            "   y  x1  x2\n",
            "2  4   9  -2\n",
            "3  5  11  -3\n",
            "4  6  10  -4\n"
          ],
          "name": "stdout"
        }
      ]
    },
    {
      "cell_type": "code",
      "metadata": {
        "colab": {
          "base_uri": "https://localhost:8080/"
        },
        "id": "zlaCnk39cRQ6",
        "outputId": "1f588e51-b993-4ce5-e3f9-012080f72cca"
      },
      "source": [
        "print(data.loc[:,'y'])\n",
        "print(type(data.loc[:,'y']))\n",
        "print(data['y'])\n",
        "print(type(data['y']))"
      ],
      "execution_count": null,
      "outputs": [
        {
          "output_type": "stream",
          "text": [
            "0    2\n",
            "1    3\n",
            "2    4\n",
            "3    5\n",
            "4    6\n",
            "Name: y, dtype: int64\n",
            "<class 'pandas.core.series.Series'>\n",
            "0    2\n",
            "1    3\n",
            "2    4\n",
            "3    5\n",
            "4    6\n",
            "Name: y, dtype: int64\n",
            "<class 'pandas.core.series.Series'>\n"
          ],
          "name": "stdout"
        }
      ]
    },
    {
      "cell_type": "code",
      "metadata": {
        "colab": {
          "base_uri": "https://localhost:8080/"
        },
        "id": "lOgRgINrdLsz",
        "outputId": "94817873-93f2-4764-c692-e0ea5c758e2d"
      },
      "source": [
        "print(data.loc[:,'y':'x1'])\n",
        "print(type(data.loc[:,'y':'x1']))\n",
        "print(data[['y', 'x1']])\n",
        "print(type(data[['y', 'x1']]))\n",
        "sub_df = data.loc[:,'y':'x1']\n",
        "print(sub_df)"
      ],
      "execution_count": null,
      "outputs": [
        {
          "output_type": "stream",
          "text": [
            "   y  x1\n",
            "0  2   4\n",
            "1  3   5\n",
            "2  4   9\n",
            "3  5  11\n",
            "4  6  10\n",
            "<class 'pandas.core.frame.DataFrame'>\n",
            "   y  x1\n",
            "0  2   4\n",
            "1  3   5\n",
            "2  4   9\n",
            "3  5  11\n",
            "4  6  10\n",
            "<class 'pandas.core.frame.DataFrame'>\n",
            "   y  x1\n",
            "0  2   4\n",
            "1  3   5\n",
            "2  4   9\n",
            "3  5  11\n",
            "4  6  10\n"
          ],
          "name": "stdout"
        }
      ]
    },
    {
      "cell_type": "code",
      "metadata": {
        "colab": {
          "base_uri": "https://localhost:8080/"
        },
        "id": "gwi2jQvpe9wK",
        "outputId": "07f15322-7f8a-41b9-b6b8-312af8271182"
      },
      "source": [
        "#gradient descent threes parameters\n",
        "b0 = 0\n",
        "b1 = 0\n",
        "b2 = 0\n",
        "\n",
        "#learning rate\n",
        "learning_rate = 0.001\n",
        "epochs = 50000\n",
        "\n",
        "n = len(data.index)\n",
        "\n",
        "#gradient descent loop\n",
        "for index in range(epochs):\n",
        "  y_pred = b0 + b1*data['x1'] + b2*data['x2']\n",
        "\n",
        "  d_b0 = -2/n * np.sum(data['y'] - y_pred)\n",
        "  d_b1 = -2/n * np.sum(data['x1']*(data['y'] - y_pred))\n",
        "  d_b2 = -2/n * np.sum(data['x2']*(data['y'] - y_pred))\n",
        "\n",
        "  #update the parameters\n",
        "  b0 -= learning_rate * d_b0\n",
        "  b1 -= learning_rate * d_b1\n",
        "  b2 -= learning_rate * d_b2\n",
        "\n",
        "print('After {} epochs.'.format(index + 1))\n",
        "print('b0 = {:.4f}'.format(b0))\n",
        "print('b1 = {:.4f}'.format(b1))\n",
        "print('b2 = {:.4f}'.format(b2))"
      ],
      "execution_count": null,
      "outputs": [
        {
          "output_type": "stream",
          "text": [
            "Después de 50000 epochs.\n",
            "b0 = 0.2813\n",
            "b1 = 0.1922\n",
            "b2 = -0.9248\n"
          ],
          "name": "stdout"
        }
      ]
    },
    {
      "cell_type": "code",
      "metadata": {
        "colab": {
          "base_uri": "https://localhost:8080/"
        },
        "id": "xa-hsh5PmSzM",
        "outputId": "ff2fa0ea-873f-4686-bcaa-8140f64a38e1"
      },
      "source": [
        "#residuals testing\n",
        "print(y_pred)\n",
        "print(data['y'])\n",
        "residuals = y_pred - data['y']\n",
        "sum_res_2 = np.dot(residuals.T, residuals)#transpose for dot product\n",
        "print(sum_res_2)"
      ],
      "execution_count": null,
      "outputs": [
        {
          "output_type": "stream",
          "text": [
            "0    1.974929\n",
            "1    3.091921\n",
            "2    3.860724\n",
            "3    5.169917\n",
            "4    5.902508\n",
            "dtype: float64\n",
            "0    2\n",
            "1    3\n",
            "2    4\n",
            "3    5\n",
            "4    6\n",
            "Name: y, dtype: int64\n",
            "0.06685236769417616\n"
          ],
          "name": "stdout"
        }
      ]
    },
    {
      "cell_type": "code",
      "metadata": {
        "colab": {
          "base_uri": "https://localhost:8080/"
        },
        "id": "Osi_CKLun4De",
        "outputId": "383db26f-af6d-41b0-f687-4d63e93ffb2d"
      },
      "source": [
        "#prepare the data set for StatModels\n",
        "X = np.array([data['x1'], data['x2']]).T\n",
        "Y = np.array(data['y']).reshape(-1,1)\n",
        "print(X)\n",
        "print(Y)"
      ],
      "execution_count": null,
      "outputs": [
        {
          "output_type": "stream",
          "text": [
            "[[ 4 -1]\n",
            " [ 5 -2]\n",
            " [ 9 -2]\n",
            " [11 -3]\n",
            " [10 -4]]\n",
            "[[2]\n",
            " [3]\n",
            " [4]\n",
            " [5]\n",
            " [6]]\n"
          ],
          "name": "stdout"
        }
      ]
    },
    {
      "cell_type": "code",
      "metadata": {
        "colab": {
          "base_uri": "https://localhost:8080/"
        },
        "id": "ukaHu6Sxqfmv",
        "outputId": "a4ccb585-6610-439c-8ea3-33049c3a6608"
      },
      "source": [
        "#Let's check if StatModels estimates the same parameters\n",
        "X = sm.add_constant(X)\n",
        "lin_model = sm.OLS(Y,X)\n",
        "result = lin_model.fit()\n",
        "print(result.summary())"
      ],
      "execution_count": null,
      "outputs": [
        {
          "output_type": "stream",
          "text": [
            "                            OLS Regression Results                            \n",
            "==============================================================================\n",
            "Dep. Variable:                      y   R-squared:                       0.993\n",
            "Model:                            OLS   Adj. R-squared:                  0.987\n",
            "Method:                 Least Squares   F-statistic:                     148.6\n",
            "Date:                Fri, 09 Jul 2021   Prob (F-statistic):            0.00669\n",
            "Time:                        00:36:52   Log-Likelihood:                 3.6921\n",
            "No. Observations:                   5   AIC:                            -1.384\n",
            "Df Residuals:                       2   BIC:                            -2.556\n",
            "Df Model:                           2                                         \n",
            "Covariance Type:            nonrobust                                         \n",
            "==============================================================================\n",
            "                 coef    std err          t      P>|t|      [0.025      0.975]\n",
            "------------------------------------------------------------------------------\n",
            "const          0.2813      0.244      1.155      0.367      -0.767       1.329\n",
            "x1             0.1922      0.049      3.906      0.060      -0.019       0.404\n",
            "x2            -0.9248      0.134     -6.881      0.020      -1.503      -0.347\n",
            "==============================================================================\n",
            "Omnibus:                          nan   Durbin-Watson:                   3.504\n",
            "Prob(Omnibus):                    nan   Jarque-Bera (JB):                0.505\n",
            "Skew:                          -0.264   Prob(JB):                        0.777\n",
            "Kurtosis:                       1.535   Cond. No.                         26.1\n",
            "==============================================================================\n",
            "\n",
            "Warnings:\n",
            "[1] Standard Errors assume that the covariance matrix of the errors is correctly specified.\n"
          ],
          "name": "stdout"
        },
        {
          "output_type": "stream",
          "text": [
            "/usr/local/lib/python3.7/dist-packages/statsmodels/stats/stattools.py:71: ValueWarning: omni_normtest is not valid with less than 8 observations; 5 samples were given.\n",
            "  \"samples were given.\" % int(n), ValueWarning)\n"
          ],
          "name": "stderr"
        }
      ]
    },
    {
      "cell_type": "code",
      "metadata": {
        "colab": {
          "base_uri": "https://localhost:8080/",
          "height": 248
        },
        "id": "VqHZfTOPsfC2",
        "outputId": "d975941a-b44e-4ddf-eca4-75d717fea751"
      },
      "source": [
        "#Let's graph the plane that represents the regression\n",
        "def regresion(x1, x2, b0, b1, b2):\n",
        "  return b0 + b1*x1 + b2*x2\n",
        "\n",
        "x1 = np.linspace(3,11,30)\n",
        "x2 = np.linspace(-5,0,30)\n",
        "\n",
        "X1, X2 = np.meshgrid(x1, x2)\n",
        "Y = regresion(X1, X2, b0, b1, b2)\n",
        "\n",
        "fig = plt.figure()\n",
        "ax = fig.add_subplot(projection = '3d')\n",
        "ax.scatter(data['x1'], data['x2'], data['y'], c = 'red', marker = 'o')\n",
        "ax.plot_surface(X1, X2, Y, cmap = 'Wistia', alpha = 0.4)\n",
        "ax.set_xlabel('x1')\n",
        "ax.set_ylabel('x2')\n",
        "ax.set_zlabel('y')\n",
        "plt.show()"
      ],
      "execution_count": null,
      "outputs": [
        {
          "output_type": "display_data",
          "data": {
            "image/png": "[encoded data removed]",
            "text/plain": [
              "<Figure size 432x288 with 1 Axes>"
            ]
          },
          "metadata": {
            "tags": [],
            "needs_background": "light"
          }
        }
      ]
    }
  ]
}